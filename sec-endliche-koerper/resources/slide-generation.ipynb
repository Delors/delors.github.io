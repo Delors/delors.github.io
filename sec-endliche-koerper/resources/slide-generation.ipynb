{
 "cells": [
  {
   "cell_type": "code",
   "execution_count": 24,
   "metadata": {},
   "outputs": [],
   "source": [
    "MODUL = 8\n",
    "HIGHLIGHT_R = 0\n",
    "\n",
    "def op(i,j, MODUL):\n",
    "    # for addition in GF2^n use xor\n",
    "    return (i ^ j) % MODUL \n",
    "\n"
   ]
  },
  {
   "cell_type": "code",
   "execution_count": 33,
   "metadata": {},
   "outputs": [
    {
     "name": "stdout",
     "output_type": "stream",
     "text": [
      "\" \", *000*, *001*, *010*, *011*, *100*, *101*, *110*, *111*\n",
      "\":math:`+`\", *0*, *1*, *2*, *3*, *4*, *5*, *6*, *7*\n",
      "*000*,  *0*, **0**, 1, 2, 3, 4, 5, 6, 7\n",
      "*001*,  *1*, 1, **0**, 3, 2, 5, 4, 7, 6\n",
      "*010*,  *2*, 2, 3, **0**, 1, 6, 7, 4, 5\n",
      "*011*,  *3*, 3, 2, 1, **0**, 7, 6, 5, 4\n",
      "*100*,  *4*, 4, 5, 6, 7, **0**, 1, 2, 3\n",
      "*101*,  *5*, 5, 4, 7, 6, 1, **0**, 3, 2\n",
      "*110*,  *6*, 6, 7, 4, 5, 2, 3, **0**, 1\n",
      "*111*,  *7*, 7, 6, 5, 4, 3, 2, 1, **0**\n"
     ]
    }
   ],
   "source": [
    "# print header\n",
    "print('\" \",\" \"', end=\"\")\n",
    "for i in range(0, MODUL):\n",
    "    print(\", \", end=\"\")\n",
    "    print(f\"*{i:03b}*\", end=\"\")\n",
    "print()\n",
    "print('\":math:`+`\"', end=\"\")\n",
    "for i in range(0, MODUL):\n",
    "    print(\", \", end=\"\")\n",
    "    print(f\"*{i}*\", end=\"\")\n",
    "print()\n",
    "# print body\n",
    "for i in range(0, MODUL):\n",
    "    print(f\"*{i:03b}*,  *{i}*\", end=\"\")\n",
    "    for j in range(0, MODUL):\n",
    "        print(\", \", end=\"\")\n",
    "        r = op(i, j, MODUL)\n",
    "        if r == HIGHLIGHT_R:\n",
    "            print(\"**0**\", end=\"\")\n",
    "        else:\n",
    "            print(f\"{r}\", end=\"\")\n",
    "    print()"
   ]
  },
  {
   "cell_type": "code",
   "execution_count": null,
   "metadata": {},
   "outputs": [],
   "source": [
    "Multiplication modulo <MODUL>"
   ]
  },
  {
   "cell_type": "code",
   "execution_count": 21,
   "metadata": {},
   "outputs": [
    {
     "name": "stdout",
     "output_type": "stream",
     "text": [
      "\":math:`*`\", *0*, *1*, *2*, *3*, *4*, *5*, *6*\n",
      "*0*, 0, 0, 0, 0, 0, 0, 0\n",
      "*1*, 0, **1**, 2, 3, 4, 5, 6\n",
      "*2*, 0, 2, 4, 6, **1**, 3, 5\n",
      "*3*, 0, 3, 6, 2, 5, **1**, 4\n",
      "*4*, 0, 4, **1**, 5, 2, 6, 3\n",
      "*5*, 0, 5, 3, **1**, 6, 4, 2\n",
      "*6*, 0, 6, 5, 4, 3, 2, **1**\n"
     ]
    }
   ],
   "source": [
    "# print header\n",
    "print('\":math:`*`\"', end=\"\")\n",
    "for i in range(0, MODUL):\n",
    "    print(\", \", end=\"\")\n",
    "    print(f\"*{i}*\", end=\"\")\n",
    "print()\n",
    "# print body\n",
    "for i in range(0, MODUL):\n",
    "    print(f\"*{i}*\", end=\"\")\n",
    "    for j in range(0, MODUL):\n",
    "        print(\", \", end=\"\")\n",
    "        r = (i * j) % MODUL\n",
    "        if r == 1:\n",
    "            print(\"**1**\", end=\"\")\n",
    "        else:\n",
    "            print(f\"{r}\", end=\"\")\n",
    "    print()"
   ]
  }
 ],
 "metadata": {
  "kernelspec": {
   "display_name": "Python 3",
   "language": "python",
   "name": "python3"
  },
  "language_info": {
   "codemirror_mode": {
    "name": "ipython",
    "version": 3
   },
   "file_extension": ".py",
   "mimetype": "text/x-python",
   "name": "python",
   "nbconvert_exporter": "python",
   "pygments_lexer": "ipython3",
   "version": "3.12.0"
  }
 },
 "nbformat": 4,
 "nbformat_minor": 2
}
