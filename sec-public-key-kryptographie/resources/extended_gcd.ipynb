{
 "cells": [
  {
   "cell_type": "markdown",
   "metadata": {},
   "source": [
    "Implementierungen der wesentlichen Algorithmen für den RSA Algorithmus. Gegeben n und ϕ(n) und einen (frei gewählten) Wert e, erlaubt die Methode inverse die Berechnung der modularen Inversen und somit des Wertes d, der zur Entschlüsselung benötigt wird. Die Ver-/Entschlüsselung kann dann mit square_and_multiply erfolgen."
   ]
  },
  {
   "cell_type": "markdown",
   "metadata": {},
   "source": [
    "# Berechnung der modularen Inversen"
   ]
  },
  {
   "cell_type": "code",
   "execution_count": 64,
   "metadata": {},
   "outputs": [],
   "source": [
    "def inverse(x, m): # w.r.t RSA: x is our value \"e\" and \"m\" is our modulus ϕ(n) and the result is \"d\"\n",
    "    a, b, u = 0, m, 1\n",
    "    while x > 0:\n",
    "        q = b // x # integer division\n",
    "        x, a, b, u = b % x, u, x, a - q * u\n",
    "        if b == 1:\n",
    "            return a % m\n",
    "    raise ValueError(\"x and m are not coprime\")"
   ]
  },
  {
   "cell_type": "markdown",
   "metadata": {},
   "source": [
    "# Berechnung von x^c mod n"
   ]
  },
  {
   "cell_type": "code",
   "execution_count": 65,
   "metadata": {},
   "outputs": [],
   "source": [
    "def square_and_multiply(a, b, n):\n",
    "    f = 1\n",
    "    b = bin(b)[2:]  # convert to binary string and remove the '0b' prefix\n",
    "    for i in range(\n",
    "        0, len(b)\n",
    "    ):  # we are operating on the binary string (this is python...)!\n",
    "        # print(i, c[i], z,end=\" \")\n",
    "        f = (f * f) % n\n",
    "        if b[i] == \"1\":\n",
    "            f = f * a % n\n",
    "        # print(z)\n",
    "    return f"
   ]
  },
  {
   "cell_type": "code",
   "execution_count": 66,
   "metadata": {},
   "outputs": [
    {
     "name": "stdout",
     "output_type": "stream",
     "text": [
      "e=137;ϕ(n)=160→d=153\n",
      "Verschlüsselt:    99\n",
      "Entschlüsselt:    88\n"
     ]
    }
   ],
   "source": [
    "print(\"e=137;ϕ(n)=160→d=\" + str(inverse(137, 160)))\n",
    "print(\"Verschlüsselt:    \" + str(square_and_multiply(88, 137, 187)))\n",
    "print(\"Entschlüsselt:    \" + str(square_and_multiply(99, 153, 187)))"
   ]
  },
  {
   "cell_type": "code",
   "execution_count": 67,
   "metadata": {},
   "outputs": [
    {
     "name": "stdout",
     "output_type": "stream",
     "text": [
      "Verschlüsselt:    62\n",
      "Entschlüsselt:    13\n"
     ]
    }
   ],
   "source": [
    "print(\"Verschlüsselt:    \" + str(square_and_multiply(13, 7, 77)))\n",
    "print(\"Entschlüsselt:    \" + str(square_and_multiply(62, 43, 77)))"
   ]
  },
  {
   "cell_type": "markdown",
   "metadata": {},
   "source": []
  }
 ],
 "metadata": {
  "kernelspec": {
   "display_name": "Python 3",
   "language": "python",
   "name": "python3"
  },
  "language_info": {
   "codemirror_mode": {
    "name": "ipython",
    "version": 3
   },
   "file_extension": ".py",
   "mimetype": "text/x-python",
   "name": "python",
   "nbconvert_exporter": "python",
   "pygments_lexer": "ipython3",
   "version": "3.12.0"
  }
 },
 "nbformat": 4,
 "nbformat_minor": 2
}
