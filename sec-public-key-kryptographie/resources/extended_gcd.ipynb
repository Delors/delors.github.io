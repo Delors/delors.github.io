{
 "cells": [
  {
   "cell_type": "markdown",
   "metadata": {},
   "source": [
    "# Berechnung der modularen Inversen"
   ]
  },
  {
   "cell_type": "code",
   "execution_count": 48,
   "metadata": {},
   "outputs": [],
   "source": [
    "def inverse(x, m): # w.r.t RSA: x is our value \"e\" and \"m\" is our modulus ϕ(n) and the result is \"d\"\n",
    "    a, b, u = 0, m, 1\n",
    "    while x > 0:\n",
    "        q = b // x # integer division\n",
    "        x, a, b, u = b % x, u, x, a - q * u\n",
    "        if b == 1:\n",
    "            return a % m\n",
    "    raise ValueError(\"x and m are not coprime\")"
   ]
  },
  {
   "cell_type": "markdown",
   "metadata": {},
   "source": [
    "# Berechnung von x^c mod n"
   ]
  },
  {
   "cell_type": "code",
   "execution_count": 52,
   "metadata": {},
   "outputs": [],
   "source": [
    "\n",
    "def square_and_multiply(a, b, n):\n",
    "    f = 1\n",
    "    b = bin(b)[2:] # convert to binary string and remove the '0b' prefix\n",
    "    for i in range(0,len(b)): # we are operating on the binary string (this is python...)!        \n",
    "        # print(i, c[i], z,end=\" \")\n",
    "        f = ( f * f ) % n\n",
    "        if b[i] == '1':\n",
    "            f = f * a % n\n",
    "        # print(z)\n",
    "    return f"
   ]
  },
  {
   "cell_type": "code",
   "execution_count": 53,
   "metadata": {},
   "outputs": [
    {
     "name": "stdout",
     "output_type": "stream",
     "text": [
      "e=137;ϕ(n)=160→d=153\n",
      "Verschlüsselt:    99\n",
      "Entschlüsselt:    88\n"
     ]
    }
   ],
   "source": [
    "# print(\"sq&m:    \"+ str(square_and_multiply(11,23, 187)))\n",
    "# print(\"sq&m:    \"+ str(square_and_multiply(11,23, 187)))\n",
    "print(\"e=137;ϕ(n)=160→d=\"+ str(inverse(137, 160)))\n",
    "print(\"Verschlüsselt:    \"+ str(square_and_multiply(88,137, 187)))\n",
    "print(\"Entschlüsselt:    \"+ str(square_and_multiply(99,153, 187)))\n"
   ]
  },
  {
   "cell_type": "code",
   "execution_count": 54,
   "metadata": {},
   "outputs": [
    {
     "name": "stdout",
     "output_type": "stream",
     "text": [
      "Verschlüsselt:    62\n",
      "Entschlüsselt:    13\n"
     ]
    }
   ],
   "source": [
    "print(\"Verschlüsselt:    \"+ str(square_and_multiply(13,7, 77)))\n",
    "print(\"Entschlüsselt:    \"+ str(square_and_multiply(62,43, 77)))"
   ]
  },
  {
   "cell_type": "code",
   "execution_count": 62,
   "metadata": {},
   "outputs": [
    {
     "name": "stdout",
     "output_type": "stream",
     "text": [
      "d= 1017754829158121\n",
      "C= 70789294130501\n",
      "M= 509822222563827\n"
     ]
    },
    {
     "data": {
      "text/plain": [
       "'success'"
      ]
     },
     "execution_count": 62,
     "metadata": {},
     "output_type": "execute_result"
    }
   ],
   "source": [
    "m = 509822222563827\n",
    "p = 40005739\n",
    "q = 50006773\n",
    "n = p * q\n",
    "phi_n = (p - 1) * (q - 1)\n",
    "e = 65537\n",
    "d = inverse(e, phi_n)\n",
    "print(\"d=\", d)\n",
    "c = square_and_multiply(m,e, n)\n",
    "print(\"C=\", c)\n",
    "print(\"M=\", square_and_multiply(c, d, n))\n",
    "\n",
    "# Umwandlung in String:\n",
    "bstr = bin(m)\n",
    "chars = [bstr[i : i + 7] for i in range(2, len(bstr) - 1, 7)]\n",
    "\"\".join(list(map(lambda x: chr(int(x, 2)), chars)))"
   ]
  }
 ],
 "metadata": {
  "kernelspec": {
   "display_name": "Python 3",
   "language": "python",
   "name": "python3"
  },
  "language_info": {
   "codemirror_mode": {
    "name": "ipython",
    "version": 3
   },
   "file_extension": ".py",
   "mimetype": "text/x-python",
   "name": "python",
   "nbconvert_exporter": "python",
   "pygments_lexer": "ipython3",
   "version": "3.12.0"
  }
 },
 "nbformat": 4,
 "nbformat_minor": 2
}
