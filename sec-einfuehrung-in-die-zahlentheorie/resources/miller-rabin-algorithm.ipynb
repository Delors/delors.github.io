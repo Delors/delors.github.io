{
 "cells": [
  {
   "cell_type": "markdown",
   "metadata": {},
   "source": [
    "# Miller-Rabin Algorithm\n",
    "\n",
    "Naive implementation of the probabilistic Miller-Rabin Algorithm for testing the primality of numbers. This implementation is for teaching purposes only!"
   ]
  },
  {
   "cell_type": "code",
   "execution_count": 20,
   "metadata": {},
   "outputs": [],
   "source": [
    "\"\"\" Computes s and d such that 2^s * d = n for n > 2.\n",
    "\"\"\"\n",
    "def determineFactorizationForEvenNumber(n): \n",
    "    assert n >=2 and n % 2 == 0 # is even number\n",
    "\n",
    "    s = 0    \n",
    "    while(n > 0):\n",
    "        if (n % 2 == 1):\n",
    "            return (s,n)\n",
    "        else:\n",
    "            n = n // 2\n",
    "            s += 1\n",
    "\n",
    "#print(determineFactorizationForEvenNumber(24))\n",
    "#print(determineFactorizationForEvenNumber(1026))"
   ]
  },
  {
   "cell_type": "code",
   "execution_count": 21,
   "metadata": {},
   "outputs": [
    {
     "name": "stdout",
     "output_type": "stream",
     "text": [
      "primality test for 37:\n",
      " k      s      a      x      y\n",
      "  round 0:\n",
      " 0      0     27     36      1\n",
      " 0      1     27      1      1\n",
      "  round 1:\n",
      " 1      0     19      6     36\n",
      " 1      1     19     36      1\n",
      "  round 2:\n",
      " 2      0     18     31     36\n",
      " 2      1     18     36      1\n",
      "probably prime\n"
     ]
    }
   ],
   "source": [
    "from random import randrange \n",
    "\n",
    "def primalityTest(n,k):\n",
    "    assert n > 1 and n % 2 == 1\n",
    "    assert k > 0 \n",
    "\n",
    "    (s,d) = determineFactorizationForEvenNumber(n-1)\n",
    "    print(\" k      s      a      x      y\")\n",
    "    for _k in range(0,k):\n",
    "        print(f\"  round {_k}:\")\n",
    "        a = randrange(2,n-2)\n",
    "        x = pow(a,d,n) # <= \"default\" pow implements modular exponentiation       \n",
    "        for _s in range(0,s):            \n",
    "            y = x*x % n\n",
    "            print(f\"{_k:2d} {_s:6d} {a:6d} {x:6d} {y:6d}\")\n",
    "            if y == 1 and x != 1 and y != 1:\n",
    "                return \"composite\"\n",
    "            x = y\n",
    "        if y != 1:\n",
    "            return \"composite\"\n",
    "    return \"probably prime\"\n",
    "\n",
    "print(\"primality test for 37:\")\n",
    "print(primalityTest(37,3))\n",
    "\n",
    "# print(\"primality test for 1027:\")\n",
    "# print(primalityTest(1027,3)) # 1027 = 13 * 79\n"
   ]
  }
 ],
 "metadata": {
  "kernelspec": {
   "display_name": "Python 3",
   "language": "python",
   "name": "python3"
  },
  "language_info": {
   "codemirror_mode": {
    "name": "ipython",
    "version": 3
   },
   "file_extension": ".py",
   "mimetype": "text/x-python",
   "name": "python",
   "nbconvert_exporter": "python",
   "pygments_lexer": "ipython3",
   "version": "3.12.0"
  }
 },
 "nbformat": 4,
 "nbformat_minor": 2
}
