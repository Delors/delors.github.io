{
 "cells": [
  {
   "cell_type": "markdown",
   "metadata": {},
   "source": [
    "# Implementation of a Feistel Cipher\n",
    "\n",
    "This implementation of a generic Feistel cipher only serves teaching purposes. \n",
    "\n",
    "It does not - _by any means_ - implement a secure encryption algorithm. It is meant to serve our understanding regarding the design of a really secure algorithm."
   ]
  },
  {
   "cell_type": "markdown",
   "metadata": {},
   "source": [
    "We set our block size."
   ]
  },
  {
   "cell_type": "code",
   "execution_count": 44,
   "metadata": {},
   "outputs": [],
   "source": [
    "B_BITS = 128\n",
    "B_BYTES = B_BITS // 8\n",
    "\n",
    "ROUNDS = 16"
   ]
  },
  {
   "cell_type": "markdown",
   "metadata": {},
   "source": [
    "Let's define some very simple \"f\" functions to facilitate our understanding."
   ]
  },
  {
   "cell_type": "code",
   "execution_count": 45,
   "metadata": {},
   "outputs": [],
   "source": [
    "def f_const_0(r, k_i):\n",
    "    return b\"\\x00\" * (B_BYTES // 2)\n",
    "\n",
    "\n",
    "def f_const_1(r, k_i):\n",
    "    return b\"\\x01\" * (B_BYTES // 2)\n",
    "\n",
    "\n",
    "def f_xor(r, k_i):\n",
    "    return bytes([x ^ y for x, y in zip(r, k_i)])"
   ]
  },
  {
   "cell_type": "markdown",
   "metadata": {},
   "source": [
    "We need a simple function to get a round key (`k_i`). In this case, we perform a simple shift operation - shifting a whole byte."
   ]
  },
  {
   "cell_type": "code",
   "execution_count": 46,
   "metadata": {},
   "outputs": [],
   "source": [
    "from collections import deque\n",
    "\n",
    "\n",
    "def k_i(master_key, i, mode):\n",
    "    r_i = deque(master_key)\n",
    "    if mode == \"encrypt\":\n",
    "        r_i.rotate(i)\n",
    "    else:\n",
    "        r_i.rotate(-i-1) # -1 here, because the first round has index \"0\"\n",
    "    return bytes(r_i)"
   ]
  },
  {
   "cell_type": "code",
   "execution_count": 47,
   "metadata": {},
   "outputs": [],
   "source": [
    "from binascii import hexlify\n",
    "\n",
    "\n",
    "def round(i, l_i, r_i, f_i, k_i):\n",
    "    substitution = f_i(r_i, k_i)\n",
    "    r_pi = bytes([r_b ^ r_k_b for r_b, r_k_b in zip(l_i, substitution)])\n",
    "    print(\n",
    "        f\"{i:2d} \"\n",
    "        f\"l = {hexlify(l_i)}, r = {hexlify(r_i)}, k = {hexlify(k_i)}, f_i(r_i,k_i) = {hexlify(substitution)}, {hexlify(r_pi)}\"\n",
    "    )\n",
    "    return (r_i, r_pi)"
   ]
  },
  {
   "cell_type": "code",
   "execution_count": 48,
   "metadata": {},
   "outputs": [],
   "source": [
    "def process_block(m, f, master_k, mode):\n",
    "    l = m[0 : (B_BYTES // 2)]\n",
    "    r = m[(B_BYTES // 2) :]\n",
    "    for i in range(0, ROUNDS):\n",
    "        (l, r) = round(i, l, r, f, k_i(master_k, i, mode))\n",
    "\n",
    "    return r + l"
   ]
  },
  {
   "cell_type": "markdown",
   "metadata": {},
   "source": []
  },
  {
   "cell_type": "markdown",
   "metadata": {},
   "source": [
    "For the time beeing we don't care about messages which don't have a  size that is not a multiple of the block size."
   ]
  },
  {
   "cell_type": "code",
   "execution_count": 49,
   "metadata": {},
   "outputs": [],
   "source": [
    "def process_message(m_in, f, k, mode):\n",
    "    assert len(m_in) % B_BYTES == 0\n",
    "\n",
    "    m_out = b\"\"\n",
    "    for b in range(0, len(m_in) // B_BYTES):\n",
    "        m_out += process_block(m_in[b * B_BYTES : (b + 1) * B_BYTES], f, k, mode)\n",
    "    return m_out"
   ]
  },
  {
   "cell_type": "markdown",
   "metadata": {},
   "source": [
    "Derive a master key by trimming or padding the user key. (Better: use hashing)"
   ]
  },
  {
   "cell_type": "code",
   "execution_count": 50,
   "metadata": {},
   "outputs": [],
   "source": [
    "def master_k(key_candidate):\n",
    "    if (len(key_candidate) <= B_BYTES//2):\n",
    "        return bytes(key_candidate + \"\\x00\"*(B_BYTES//2-len(key_candidate)),\"ascii\")\n",
    "    else:\n",
    "        return bytes(key_candidate[0:B_BYTES//2],\"ascii\")"
   ]
  },
  {
   "cell_type": "code",
   "execution_count": 54,
   "metadata": {},
   "outputs": [
    {
     "name": "stdout",
     "output_type": "stream",
     "text": [
      "P: b'54686973206973206120746573742e2e', b'This is a test..'\n",
      " 0 l = b'5468697320697320', r = b'6120746573742e2e', k = b'4141414141414141', f_i(r_i,k_i) = b'2061352432356f6f', b'74095c57125c1c4f'\n",
      " 1 l = b'6120746573742e2e', r = b'74095c57125c1c4f', k = b'4141414141414141', f_i(r_i,k_i) = b'35481d16531d5d0e', b'5468697320697320'\n",
      " 2 l = b'74095c57125c1c4f', r = b'5468697320697320', k = b'4141414141414141', f_i(r_i,k_i) = b'1529283261283261', b'6120746573742e2e'\n",
      " 3 l = b'5468697320697320', r = b'6120746573742e2e', k = b'4141414141414141', f_i(r_i,k_i) = b'2061352432356f6f', b'74095c57125c1c4f'\n",
      " 4 l = b'6120746573742e2e', r = b'74095c57125c1c4f', k = b'4141414141414141', f_i(r_i,k_i) = b'35481d16531d5d0e', b'5468697320697320'\n",
      " 5 l = b'74095c57125c1c4f', r = b'5468697320697320', k = b'4141414141414141', f_i(r_i,k_i) = b'1529283261283261', b'6120746573742e2e'\n",
      " 6 l = b'5468697320697320', r = b'6120746573742e2e', k = b'4141414141414141', f_i(r_i,k_i) = b'2061352432356f6f', b'74095c57125c1c4f'\n",
      " 7 l = b'6120746573742e2e', r = b'74095c57125c1c4f', k = b'4141414141414141', f_i(r_i,k_i) = b'35481d16531d5d0e', b'5468697320697320'\n",
      " 8 l = b'74095c57125c1c4f', r = b'5468697320697320', k = b'4141414141414141', f_i(r_i,k_i) = b'1529283261283261', b'6120746573742e2e'\n",
      " 9 l = b'5468697320697320', r = b'6120746573742e2e', k = b'4141414141414141', f_i(r_i,k_i) = b'2061352432356f6f', b'74095c57125c1c4f'\n",
      "10 l = b'6120746573742e2e', r = b'74095c57125c1c4f', k = b'4141414141414141', f_i(r_i,k_i) = b'35481d16531d5d0e', b'5468697320697320'\n",
      "11 l = b'74095c57125c1c4f', r = b'5468697320697320', k = b'4141414141414141', f_i(r_i,k_i) = b'1529283261283261', b'6120746573742e2e'\n",
      "12 l = b'5468697320697320', r = b'6120746573742e2e', k = b'4141414141414141', f_i(r_i,k_i) = b'2061352432356f6f', b'74095c57125c1c4f'\n",
      "13 l = b'6120746573742e2e', r = b'74095c57125c1c4f', k = b'4141414141414141', f_i(r_i,k_i) = b'35481d16531d5d0e', b'5468697320697320'\n",
      "14 l = b'74095c57125c1c4f', r = b'5468697320697320', k = b'4141414141414141', f_i(r_i,k_i) = b'1529283261283261', b'6120746573742e2e'\n",
      "15 l = b'5468697320697320', r = b'6120746573742e2e', k = b'4141414141414141', f_i(r_i,k_i) = b'2061352432356f6f', b'74095c57125c1c4f'\n",
      "C: b'74095c57125c1c4f6120746573742e2e', b't\\t\\\\W\\x12\\\\\\x1cOa test..'\n"
     ]
    }
   ],
   "source": [
    "#pwd = \"A Password!\"\n",
    "pwd = \"A\"*B_BYTES\n",
    "key = master_k(pwd)\n",
    "m_16x8_0s = b\"\\x00\"*B_BYTES\n",
    "m_16x8 = b\"This is a test..\"\n",
    "m_64x8 = b\"This is a very large test..... not so large after all, isn't it?\"\n",
    "m = m_16x8\n",
    "print(f\"P: {hexlify(m)}, {m}\")\n",
    "C = process_message(m, f_xor, key, \"encrypt\")\n",
    "print(f\"C: {hexlify(C)}, {C}\")\n",
    "# P = process_message(C, f_xor, key, \"decrypt\")\n",
    "# print(f\"=> {hexlify(P)}, as string={P}\")"
   ]
  },
  {
   "cell_type": "markdown",
   "metadata": {},
   "source": [
    "Print some frequency information to see the inadequacy of our cipher/function f/subkey generation algo."
   ]
  },
  {
   "cell_type": "code",
   "execution_count": 52,
   "metadata": {},
   "outputs": [
    {
     "name": "stdout",
     "output_type": "stream",
     "text": [
      " 4 => 2\n",
      "1b => 2\n",
      "1f => 2\n",
      "2a => 1\n",
      "54 => 1\n",
      "5e => 1\n",
      "68 => 1\n",
      "6b => 1\n",
      "6c => 1\n",
      "74 => 1\n",
      "77 => 1\n",
      "7a => 1\n",
      "7e => 1\n"
     ]
    }
   ],
   "source": [
    "from array import array\n",
    "freq = array('L',(0 for i in range(0,256)))\n",
    "for i in range(0,len(C)):\n",
    "    freq[C[i]] += 1\n",
    "\n",
    "x_labels = []\n",
    "x_data = []\n",
    "for i in range(0,256):\n",
    "    if(freq[i] > 0):\n",
    "        x_labels.append(i)\n",
    "        x_data.append(freq[i])\n",
    "        print(f\"{i:2x}\", \"=>\", freq[i])"
   ]
  }
 ],
 "metadata": {
  "kernelspec": {
   "display_name": "Python 3",
   "language": "python",
   "name": "python3"
  },
  "language_info": {
   "codemirror_mode": {
    "name": "ipython",
    "version": 3
   },
   "file_extension": ".py",
   "mimetype": "text/x-python",
   "name": "python",
   "nbconvert_exporter": "python",
   "pygments_lexer": "ipython3",
   "version": "3.12.0"
  }
 },
 "nbformat": 4,
 "nbformat_minor": 2
}
